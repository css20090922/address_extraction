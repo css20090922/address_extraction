{
  "nbformat": 4,
  "nbformat_minor": 0,
  "metadata": {
    "colab": {
      "name": "Untitled1.ipynb",
      "provenance": [],
      "collapsed_sections": []
    },
    "kernelspec": {
      "name": "python3",
      "display_name": "Python 3"
    }
  },
  "cells": [
    {
      "cell_type": "code",
      "metadata": {
        "id": "91IurJ0IM8RD",
        "colab": {
          "base_uri": "https://localhost:8080/"
        },
        "outputId": "d37598b1-c4bb-4540-db36-fb51efd04657"
      },
      "source": [
        "!git clone https://github.com/css20090922/address_extraction.git"
      ],
      "execution_count": null,
      "outputs": [
        {
          "output_type": "stream",
          "text": [
            "Cloning into 'address_extraction'...\n",
            "remote: Enumerating objects: 18, done.\u001b[K\n",
            "remote: Counting objects: 100% (18/18), done.\u001b[K\n",
            "remote: Compressing objects: 100% (17/17), done.\u001b[K\n",
            "remote: Total 18 (delta 4), reused 8 (delta 0), pack-reused 0\u001b[K\n",
            "Unpacking objects: 100% (18/18), done.\n"
          ],
          "name": "stdout"
        }
      ]
    },
    {
      "cell_type": "code",
      "metadata": {
        "id": "2wQh1GVUNCOX",
        "colab": {
          "base_uri": "https://localhost:8080/"
        },
        "outputId": "17549abe-9374-42dc-e2cc-97ef3ff37210"
      },
      "source": [
        "%cd address_extraction/"
      ],
      "execution_count": null,
      "outputs": [
        {
          "output_type": "stream",
          "text": [
            "/content/address_extraction\n"
          ],
          "name": "stdout"
        }
      ]
    },
    {
      "cell_type": "code",
      "metadata": {
        "id": "Pcx3fXdnkwR6"
      },
      "source": [
        "!pip install transformers -U"
      ],
      "execution_count": null,
      "outputs": []
    },
    {
      "cell_type": "code",
      "metadata": {
        "id": "bkH4IM-jxYli"
      },
      "source": [
        "import os\n",
        "import re\n",
        "import json\n",
        "import string\n",
        "import numpy as np\n",
        "import tensorflow as tf\n",
        "import pandas as pd\n",
        "import csv\n",
        "import matplotlib.pyplot as plt\n",
        "from time import time\n",
        "from tensorflow import keras\n",
        "from tensorflow.keras import layers\n",
        "from tokenizers import BertWordPieceTokenizer\n",
        "from transformers import BertTokenizer, TFBertModel, BertConfig,TFBertForTokenClassification,create_optimizer\n",
        "from sklearn.model_selection import train_test_split\n"
      ],
      "execution_count": 9,
      "outputs": []
    },
    {
      "cell_type": "code",
      "metadata": {
        "id": "fPvWlY9BxMAy"
      },
      "source": [
        "MAX_LEN = 128\n",
        "ADDR_MAX_LEN = 64\n",
        "configuration = BertConfig()"
      ],
      "execution_count": 10,
      "outputs": []
    },
    {
      "cell_type": "code",
      "metadata": {
        "id": "5R2pCb9ylrDp"
      },
      "source": [
        "MODEL_NAME = \"bert-base-cased\"\n",
        "slow_tokenizer = BertTokenizer.from_pretrained(MODEL_NAME)\n",
        "save_path = \"bert_base_cased/\"\n",
        "if not os.path.exists(save_path):\n",
        "    os.makedirs(save_path)\n",
        "slow_tokenizer.save_pretrained(save_path)\n",
        "\n",
        "tokenizer = BertTokenizer(\"bert_base_cased/vocab.txt\", lowercase=True,pad_token='0',mask_token='1')\n"
      ],
      "execution_count": 11,
      "outputs": []
    },
    {
      "cell_type": "code",
      "metadata": {
        "id": "LTOCnBeknjWd",
        "colab": {
          "base_uri": "https://localhost:8080/",
          "height": 387
        },
        "outputId": "61ed1d9b-5563-4354-ce53-9028259af0aa"
      },
      "source": [
        "df = pd.read_csv('/content/address_extraction/datasets/train.csv', encoding='latin-1')\n",
        "df.set_index('id', inplace=True)\n",
        "\n",
        "df['POI'] = df['POI/street'].str.split(\"/\",n=2,expand=True)[0]\n",
        "df['street'] = df['POI/street'].str.split(\"/\",n=2,expand=True)[1]\n",
        "\n",
        "\n",
        "df.head(10)\n"
      ],
      "execution_count": 15,
      "outputs": [
        {
          "output_type": "execute_result",
          "data": {
            "text/html": [
              "<div>\n",
              "<style scoped>\n",
              "    .dataframe tbody tr th:only-of-type {\n",
              "        vertical-align: middle;\n",
              "    }\n",
              "\n",
              "    .dataframe tbody tr th {\n",
              "        vertical-align: top;\n",
              "    }\n",
              "\n",
              "    .dataframe thead th {\n",
              "        text-align: right;\n",
              "    }\n",
              "</style>\n",
              "<table border=\"1\" class=\"dataframe\">\n",
              "  <thead>\n",
              "    <tr style=\"text-align: right;\">\n",
              "      <th></th>\n",
              "      <th>raw_address</th>\n",
              "      <th>POI/street</th>\n",
              "      <th>POI</th>\n",
              "      <th>street</th>\n",
              "    </tr>\n",
              "    <tr>\n",
              "      <th>id</th>\n",
              "      <th></th>\n",
              "      <th></th>\n",
              "      <th></th>\n",
              "      <th></th>\n",
              "    </tr>\n",
              "  </thead>\n",
              "  <tbody>\n",
              "    <tr>\n",
              "      <th>0</th>\n",
              "      <td>jl kapuk timur delta sili iii lippo cika 11 a ...</td>\n",
              "      <td>/jl kapuk timur delta sili iii lippo cika</td>\n",
              "      <td></td>\n",
              "      <td>jl kapuk timur delta sili iii lippo cika</td>\n",
              "    </tr>\n",
              "    <tr>\n",
              "      <th>1</th>\n",
              "      <td>aye, jati sampurna</td>\n",
              "      <td>/</td>\n",
              "      <td></td>\n",
              "      <td></td>\n",
              "    </tr>\n",
              "    <tr>\n",
              "      <th>2</th>\n",
              "      <td>setu siung 119 rt 5 1 13880 cipayung</td>\n",
              "      <td>/siung</td>\n",
              "      <td></td>\n",
              "      <td>siung</td>\n",
              "    </tr>\n",
              "    <tr>\n",
              "      <th>3</th>\n",
              "      <td>toko dita, kertosono</td>\n",
              "      <td>toko dita/</td>\n",
              "      <td>toko dita</td>\n",
              "      <td></td>\n",
              "    </tr>\n",
              "    <tr>\n",
              "      <th>4</th>\n",
              "      <td>jl. orde baru</td>\n",
              "      <td>/jl. orde baru</td>\n",
              "      <td></td>\n",
              "      <td>jl. orde baru</td>\n",
              "    </tr>\n",
              "    <tr>\n",
              "      <th>5</th>\n",
              "      <td>raya samb gede, 299 toko bb kids</td>\n",
              "      <td>toko bb kids/raya samb gede</td>\n",
              "      <td>toko bb kids</td>\n",
              "      <td>raya samb gede</td>\n",
              "    </tr>\n",
              "    <tr>\n",
              "      <th>6</th>\n",
              "      <td>kem mel raya, no 4 bojong rawalumbu rt 1 36 ra...</td>\n",
              "      <td>/kem mel raya</td>\n",
              "      <td></td>\n",
              "      <td>kem mel raya</td>\n",
              "    </tr>\n",
              "    <tr>\n",
              "      <th>7</th>\n",
              "      <td>tela keuramat kuta alam</td>\n",
              "      <td>/tela</td>\n",
              "      <td></td>\n",
              "      <td>tela</td>\n",
              "    </tr>\n",
              "    <tr>\n",
              "      <th>8</th>\n",
              "      <td>gg. i wates magersari</td>\n",
              "      <td>/gg. i</td>\n",
              "      <td></td>\n",
              "      <td>gg. i</td>\n",
              "    </tr>\n",
              "    <tr>\n",
              "      <th>9</th>\n",
              "      <td>bunga ncole ix 2</td>\n",
              "      <td>/bunga ncole ix</td>\n",
              "      <td></td>\n",
              "      <td>bunga ncole ix</td>\n",
              "    </tr>\n",
              "  </tbody>\n",
              "</table>\n",
              "</div>"
            ],
            "text/plain": [
              "                                          raw_address  ...                                    street\n",
              "id                                                     ...                                          \n",
              "0   jl kapuk timur delta sili iii lippo cika 11 a ...  ...  jl kapuk timur delta sili iii lippo cika\n",
              "1                                  aye, jati sampurna  ...                                          \n",
              "2                setu siung 119 rt 5 1 13880 cipayung  ...                                     siung\n",
              "3                                toko dita, kertosono  ...                                          \n",
              "4                                       jl. orde baru  ...                             jl. orde baru\n",
              "5                    raya samb gede, 299 toko bb kids  ...                            raya samb gede\n",
              "6   kem mel raya, no 4 bojong rawalumbu rt 1 36 ra...  ...                              kem mel raya\n",
              "7                             tela keuramat kuta alam  ...                                      tela\n",
              "8                               gg. i wates magersari  ...                                     gg. i\n",
              "9                                    bunga ncole ix 2  ...                            bunga ncole ix\n",
              "\n",
              "[10 rows x 4 columns]"
            ]
          },
          "metadata": {
            "tags": []
          },
          "execution_count": 15
        }
      ]
    },
    {
      "cell_type": "markdown",
      "metadata": {
        "id": "bg7rMOCSo88P"
      },
      "source": [
        "記得tokenize前要先個別取出來"
      ]
    },
    {
      "cell_type": "code",
      "metadata": {
        "id": "ooWLmr89yGcM"
      },
      "source": [
        "class preprocessor:\n",
        "  def __init__(self, raw_address, POI,street):\n",
        "    self.raw_address = raw_address\n",
        "    self.POI = POI\n",
        "    self.street = street\n",
        "    self.skip = False\n",
        "  def preprocess(self):\n",
        "    raw_address = self.raw_address\n",
        "    POI = self.POI\n",
        "    street = self.street\n",
        "    if(POI==\"\" and street==\"\"):\n",
        "      self.skip = True\n",
        "    else:\n",
        "    # Tokenize tokenized_raw_address\n",
        "      try:\n",
        "        tokenized_raw_address = tokenizer(raw_address,padding='max_length',max_length=MAX_LEN,return_tensors=\"np\")\n",
        "        tokenized_POI = tokenizer(POI,padding='max_length',max_length=ADDR_MAX_LEN,return_tensors=\"np\",return_attention_mask=False)\n",
        "        tokenized_street = tokenizer(street,padding='max_length',max_length=ADDR_MAX_LEN,return_tensors=\"np\",return_attention_mask=False)\n",
        "        \n",
        "        self.raw_address = tokenized_raw_address[\"input_ids\"]\n",
        "        self.attention_mask = tokenized_raw_address[\"attention_mask\"]\n",
        "        self.POI = tokenized_POI[\"input_ids\"]\n",
        "        self.street = tokenized_street[\"input_ids\"]\n",
        "      except (TypeError,AssertionError):\n",
        "        self.skip = True\n",
        "        print(\"raw_address:\"+str(raw_address)+\"\\n\"\n",
        "            +\"POI:\"+str(POI)+\"\\n\"\n",
        "            +\"street:\"+str(street)+\"\\n\")\n",
        "def create_datasets(raw_data):\n",
        "    \n",
        "    datasets = []\n",
        " \n",
        "    # split col poi and street\n",
        "   \n",
        "    for attr in raw_data:\n",
        "      raw_address = attr[0]\n",
        "      POI = attr[2]\n",
        "      street = attr[3]\n",
        "      \n",
        "      squad_eg =  preprocessor(\n",
        "          raw_address,POI,street\n",
        "      )\n",
        "      squad_eg.preprocess()\n",
        "      datasets.append(squad_eg)\n",
        "    return datasets\n",
        "def create_inputs_targets(token_data):\n",
        "    dataset_dict = {\n",
        "        \"input_ids\": [],\n",
        "        \"attention_mask\": [],\n",
        "        \"POI\" : [],\n",
        "        \"street\" : []\n",
        "    }\n",
        "    for item in token_data:\n",
        "      if item.skip == False:\n",
        "          dataset_dict[\"input_ids\"].append(item.raw_address)\n",
        "          dataset_dict[\"attention_mask\"].append(item.attention_mask)               \n",
        "          dataset_dict[\"POI\"].append(item.POI)\n",
        "          dataset_dict[\"street\"].append(item.street)\n",
        "    \n",
        "    x = [\n",
        "        dataset_dict[\"input_ids\"],\n",
        "        dataset_dict[\"attention_mask\"],\n",
        "    ]\n",
        "    y = [\n",
        "        dataset_dict[\"POI\"],\n",
        "        dataset_dict[\"street\"],\n",
        "    ]\n",
        "    return x, y\n",
        "\n",
        "\n"
      ],
      "execution_count": 25,
      "outputs": []
    },
    {
      "cell_type": "code",
      "metadata": {
        "id": "NivTg8Y1IdTH",
        "colab": {
          "base_uri": "https://localhost:8080/",
          "height": 405
        },
        "outputId": "1121ae4a-cf1d-44e6-b003-44e6c2521064"
      },
      "source": [
        "start = time()\n",
        "token_df = create_datasets(df.to_numpy().tolist())\n",
        "x_train, y_train = create_inputs_targets(token_df)\n",
        "x_train = np.array(x_train)\n",
        "# y_train = np.array(y_train)\n",
        "print(\"cost {}\".format(time()-start))"
      ],
      "execution_count": 45,
      "outputs": [
        {
          "output_type": "stream",
          "text": [
            "raw_address:jl. mayjen sungkono no.09 ( ponpes darul ulum agung-depan terminal hamid rusdi )??/\n",
            "POI:nan\n",
            "street:nan\n",
            "\n",
            "raw_address:jalan mulawarman rt 7 manggar baru ?sebelum jembatan manggar??/jalan mulawarman\n",
            "POI:nan\n",
            "street:nan\n",
            "\n"
          ],
          "name": "stdout"
        },
        {
          "output_type": "stream",
          "text": [
            "/usr/local/lib/python3.7/dist-packages/ipykernel_launcher.py:5: VisibleDeprecationWarning: Creating an ndarray from ragged nested sequences (which is a list-or-tuple of lists-or-tuples-or ndarrays with different lengths or shapes) is deprecated. If you meant to do this, you must specify 'dtype=object' when creating the ndarray\n",
            "  \"\"\"\n"
          ],
          "name": "stderr"
        },
        {
          "output_type": "error",
          "ename": "ValueError",
          "evalue": "ignored",
          "traceback": [
            "\u001b[0;31m---------------------------------------------------------------------------\u001b[0m",
            "\u001b[0;31mValueError\u001b[0m                                Traceback (most recent call last)",
            "\u001b[0;32m<ipython-input-45-c7ef0bef9a3b>\u001b[0m in \u001b[0;36m<module>\u001b[0;34m()\u001b[0m\n\u001b[1;32m      3\u001b[0m \u001b[0mx_train\u001b[0m\u001b[0;34m,\u001b[0m \u001b[0my_train\u001b[0m \u001b[0;34m=\u001b[0m \u001b[0mcreate_inputs_targets\u001b[0m\u001b[0;34m(\u001b[0m\u001b[0mtoken_df\u001b[0m\u001b[0;34m)\u001b[0m\u001b[0;34m\u001b[0m\u001b[0;34m\u001b[0m\u001b[0m\n\u001b[1;32m      4\u001b[0m \u001b[0mx_train\u001b[0m \u001b[0;34m=\u001b[0m \u001b[0mnp\u001b[0m\u001b[0;34m.\u001b[0m\u001b[0marray\u001b[0m\u001b[0;34m(\u001b[0m\u001b[0mx_train\u001b[0m\u001b[0;34m)\u001b[0m\u001b[0;34m\u001b[0m\u001b[0;34m\u001b[0m\u001b[0m\n\u001b[0;32m----> 5\u001b[0;31m \u001b[0my_train\u001b[0m \u001b[0;34m=\u001b[0m \u001b[0mnp\u001b[0m\u001b[0;34m.\u001b[0m\u001b[0marray\u001b[0m\u001b[0;34m(\u001b[0m\u001b[0my_train\u001b[0m\u001b[0;34m)\u001b[0m\u001b[0;34m\u001b[0m\u001b[0;34m\u001b[0m\u001b[0m\n\u001b[0m\u001b[1;32m      6\u001b[0m \u001b[0mprint\u001b[0m\u001b[0;34m(\u001b[0m\u001b[0;34m\"cost {}\"\u001b[0m\u001b[0;34m.\u001b[0m\u001b[0mformat\u001b[0m\u001b[0;34m(\u001b[0m\u001b[0mtime\u001b[0m\u001b[0;34m(\u001b[0m\u001b[0;34m)\u001b[0m\u001b[0;34m-\u001b[0m\u001b[0mstart\u001b[0m\u001b[0;34m)\u001b[0m\u001b[0;34m)\u001b[0m\u001b[0;34m\u001b[0m\u001b[0;34m\u001b[0m\u001b[0m\n",
            "\u001b[0;31mValueError\u001b[0m: could not broadcast input array from shape (64) into shape (1)"
          ]
        }
      ]
    },
    {
      "cell_type": "code",
      "metadata": {
        "id": "IZ4I0tS7cn0x"
      },
      "source": [
        "def create_model():\n",
        "  encoder = TFBertModel.from_pretrained(\"bert-base-cased\")\n",
        "\n",
        "  input_ids = layers.Input(shape=(MAX_LEN,), dtype=tf.int32)\n",
        "  attention_mask = layers.Input(shape=(MAX_LEN,), dtype=tf.int32)\n",
        "  embedding = encoder(\n",
        "      input_ids,attention_mask=attention_mask\n",
        "  )[0]\n",
        "\n",
        "  output_POI = layers.Dense(ADDR_MAX_LEN, name=\"output_POI\", use_bias=False)(embedding)\n",
        "  output_POI = layers.Flatten()(output_POI)\n",
        "\n",
        "  output_street = layers.Dense(ADDR_MAX_LEN, name=\"output_street\", use_bias=False)(embedding)\n",
        "  output_street = layers.Flatten()(output_street)\n",
        "\n",
        "  output_POI = layers.Activation(keras.activations.softmax)(output_POI)\n",
        "  output_street = layers.Activation(keras.activations.softmax)(output_street)\n",
        "\n",
        "  model = keras.Model(\n",
        "      inputs=[input_ids,attention_mask],\n",
        "      outputs=[output_POI, output_street],\n",
        "  )\n",
        "\n",
        "  loss = keras.losses.SparseCategoricalCrossentropy(from_logits=False)\n",
        "  optimizer = keras.optimizers.Adam(lr=5e-5)\n",
        "  model.compile(optimizer=optimizer, loss=[loss, loss])\n",
        "  return model"
      ],
      "execution_count": 32,
      "outputs": []
    },
    {
      "cell_type": "code",
      "metadata": {
        "id": "42vjmwnVjZ2E",
        "outputId": "14a1cd8f-3927-4f3c-97cd-f04dfe68bdd5",
        "colab": {
          "base_uri": "https://localhost:8080/"
        }
      },
      "source": [
        "model = create_model()\n",
        "model.summary()"
      ],
      "execution_count": 36,
      "outputs": [
        {
          "output_type": "stream",
          "text": [
            "Some layers from the model checkpoint at bert-base-cased were not used when initializing TFBertModel: ['nsp___cls', 'mlm___cls']\n",
            "- This IS expected if you are initializing TFBertModel from the checkpoint of a model trained on another task or with another architecture (e.g. initializing a BertForSequenceClassification model from a BertForPreTraining model).\n",
            "- This IS NOT expected if you are initializing TFBertModel from the checkpoint of a model that you expect to be exactly identical (initializing a BertForSequenceClassification model from a BertForSequenceClassification model).\n",
            "All the layers of TFBertModel were initialized from the model checkpoint at bert-base-cased.\n",
            "If your task is similar to the task the model of the checkpoint was trained on, you can already use TFBertModel for predictions without further training.\n"
          ],
          "name": "stderr"
        },
        {
          "output_type": "stream",
          "text": [
            "WARNING:tensorflow:The parameters `output_attentions`, `output_hidden_states` and `use_cache` cannot be updated when calling a model.They have to be set to True/False in the config object (i.e.: `config=XConfig.from_pretrained('name', output_attentions=True)`).\n",
            "WARNING:tensorflow:The parameter `return_dict` cannot be set in graph mode and will always be set to `True`.\n",
            "Model: \"model_2\"\n",
            "__________________________________________________________________________________________________\n",
            "Layer (type)                    Output Shape         Param #     Connected to                     \n",
            "==================================================================================================\n",
            "input_5 (InputLayer)            [(None, 128)]        0                                            \n",
            "__________________________________________________________________________________________________\n",
            "input_6 (InputLayer)            [(None, 128)]        0                                            \n",
            "__________________________________________________________________________________________________\n",
            "tf_bert_model_2 (TFBertModel)   TFBaseModelOutputWit 108310272   input_5[0][0]                    \n",
            "                                                                 input_6[0][0]                    \n",
            "__________________________________________________________________________________________________\n",
            "output_POI (Dense)              (None, 128, 64)      49152       tf_bert_model_2[0][0]            \n",
            "__________________________________________________________________________________________________\n",
            "output_street (Dense)           (None, 128, 64)      49152       tf_bert_model_2[0][0]            \n",
            "__________________________________________________________________________________________________\n",
            "flatten_4 (Flatten)             (None, 8192)         0           output_POI[0][0]                 \n",
            "__________________________________________________________________________________________________\n",
            "flatten_5 (Flatten)             (None, 8192)         0           output_street[0][0]              \n",
            "__________________________________________________________________________________________________\n",
            "activation_4 (Activation)       (None, 8192)         0           flatten_4[0][0]                  \n",
            "__________________________________________________________________________________________________\n",
            "activation_5 (Activation)       (None, 8192)         0           flatten_5[0][0]                  \n",
            "==================================================================================================\n",
            "Total params: 108,408,576\n",
            "Trainable params: 108,408,576\n",
            "Non-trainable params: 0\n",
            "__________________________________________________________________________________________________\n"
          ],
          "name": "stdout"
        }
      ]
    },
    {
      "cell_type": "code",
      "metadata": {
        "id": "DRtPqmE3ktOl"
      },
      "source": [
        "start=time()\n",
        "history = model.fit(\n",
        "    x_train,\n",
        "    y_train,\n",
        "    epochs=3,  # For demonstration, 3 epochs are recommended\n",
        "    verbose=2,\n",
        "    batch_size=100,\n",
        "    steps_per_epoch = 100,\n",
        "    validation_split=0.2\n",
        ")\n",
        "print(\"cost\"+str(time()-start))\n",
        "print(history)"
      ],
      "execution_count": null,
      "outputs": []
    },
    {
      "cell_type": "code",
      "metadata": {
        "id": "vOyaEnVAvCy2"
      },
      "source": [
        "plt.plot(trainacc)\n",
        "plt.plot(valacc)\n",
        "plt.title('Model accuracy')\n",
        "plt.ylabel('Accuracy')\n",
        "plt.xlabel('Epoch')\n",
        "plt.legend(['train', 'val'], loc='upper left')\n",
        "plt.show()\n",
        "\n",
        "plt.plot(history.history['loss'])\n",
        "plt.plot(history.history['val_loss'])\n",
        "plt.title('Model loss')\n",
        "plt.ylabel('Loss')\n",
        "plt.xlabel('Epoch')\n",
        "plt.legend(['Train', 'Val'], loc='upper left')\n",
        "plt.show()"
      ],
      "execution_count": null,
      "outputs": []
    }
  ]
}